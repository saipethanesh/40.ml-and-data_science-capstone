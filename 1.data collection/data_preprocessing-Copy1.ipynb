{
 "cells": [
  {
   "cell_type": "code",
   "execution_count": 1,
   "id": "89ab6e59",
   "metadata": {},
   "outputs": [],
   "source": [
    "import numpy as np\n",
    "import matplotlib.pyplot as plt\n",
    "import pandas as pd"
   ]
  },
  {
   "cell_type": "code",
   "execution_count": 2,
   "id": "c60fd8f9",
   "metadata": {
    "scrolled": true
   },
   "outputs": [],
   "source": [
    "##Importing the libraries"
   ]
  },
  {
   "cell_type": "code",
   "execution_count": 3,
   "id": "144c9b87",
   "metadata": {},
   "outputs": [],
   "source": [
    "dataset=pd.read_csv(\"Salary_Data.csv\")"
   ]
  },
  {
   "cell_type": "code",
   "execution_count": 4,
   "id": "8b0d0f05",
   "metadata": {},
   "outputs": [
    {
     "data": {
      "text/html": [
       "<div>\n",
       "<style scoped>\n",
       "    .dataframe tbody tr th:only-of-type {\n",
       "        vertical-align: middle;\n",
       "    }\n",
       "\n",
       "    .dataframe tbody tr th {\n",
       "        vertical-align: top;\n",
       "    }\n",
       "\n",
       "    .dataframe thead th {\n",
       "        text-align: right;\n",
       "    }\n",
       "</style>\n",
       "<table border=\"1\" class=\"dataframe\">\n",
       "  <thead>\n",
       "    <tr style=\"text-align: right;\">\n",
       "      <th></th>\n",
       "      <th>Age</th>\n",
       "      <th>Gender</th>\n",
       "      <th>Education Level</th>\n",
       "      <th>Job Title</th>\n",
       "      <th>Years of Experience</th>\n",
       "      <th>Salary</th>\n",
       "    </tr>\n",
       "  </thead>\n",
       "  <tbody>\n",
       "    <tr>\n",
       "      <th>0</th>\n",
       "      <td>32.0</td>\n",
       "      <td>Male</td>\n",
       "      <td>Bachelor's</td>\n",
       "      <td>Software Engineer</td>\n",
       "      <td>5.0</td>\n",
       "      <td>90000.0</td>\n",
       "    </tr>\n",
       "    <tr>\n",
       "      <th>1</th>\n",
       "      <td>28.0</td>\n",
       "      <td>Female</td>\n",
       "      <td>Master's</td>\n",
       "      <td>Data Analyst</td>\n",
       "      <td>3.0</td>\n",
       "      <td>65000.0</td>\n",
       "    </tr>\n",
       "    <tr>\n",
       "      <th>2</th>\n",
       "      <td>45.0</td>\n",
       "      <td>Male</td>\n",
       "      <td>PhD</td>\n",
       "      <td>Senior Manager</td>\n",
       "      <td>15.0</td>\n",
       "      <td>150000.0</td>\n",
       "    </tr>\n",
       "    <tr>\n",
       "      <th>3</th>\n",
       "      <td>36.0</td>\n",
       "      <td>Female</td>\n",
       "      <td>Bachelor's</td>\n",
       "      <td>Sales Associate</td>\n",
       "      <td>7.0</td>\n",
       "      <td>60000.0</td>\n",
       "    </tr>\n",
       "    <tr>\n",
       "      <th>4</th>\n",
       "      <td>52.0</td>\n",
       "      <td>Male</td>\n",
       "      <td>Master's</td>\n",
       "      <td>Director</td>\n",
       "      <td>20.0</td>\n",
       "      <td>200000.0</td>\n",
       "    </tr>\n",
       "    <tr>\n",
       "      <th>...</th>\n",
       "      <td>...</td>\n",
       "      <td>...</td>\n",
       "      <td>...</td>\n",
       "      <td>...</td>\n",
       "      <td>...</td>\n",
       "      <td>...</td>\n",
       "    </tr>\n",
       "    <tr>\n",
       "      <th>6699</th>\n",
       "      <td>49.0</td>\n",
       "      <td>Female</td>\n",
       "      <td>PhD</td>\n",
       "      <td>Director of Marketing</td>\n",
       "      <td>20.0</td>\n",
       "      <td>200000.0</td>\n",
       "    </tr>\n",
       "    <tr>\n",
       "      <th>6700</th>\n",
       "      <td>32.0</td>\n",
       "      <td>Male</td>\n",
       "      <td>High School</td>\n",
       "      <td>Sales Associate</td>\n",
       "      <td>3.0</td>\n",
       "      <td>50000.0</td>\n",
       "    </tr>\n",
       "    <tr>\n",
       "      <th>6701</th>\n",
       "      <td>30.0</td>\n",
       "      <td>Female</td>\n",
       "      <td>Bachelor's Degree</td>\n",
       "      <td>Financial Manager</td>\n",
       "      <td>4.0</td>\n",
       "      <td>55000.0</td>\n",
       "    </tr>\n",
       "    <tr>\n",
       "      <th>6702</th>\n",
       "      <td>46.0</td>\n",
       "      <td>Male</td>\n",
       "      <td>Master's Degree</td>\n",
       "      <td>Marketing Manager</td>\n",
       "      <td>14.0</td>\n",
       "      <td>140000.0</td>\n",
       "    </tr>\n",
       "    <tr>\n",
       "      <th>6703</th>\n",
       "      <td>26.0</td>\n",
       "      <td>Female</td>\n",
       "      <td>High School</td>\n",
       "      <td>Sales Executive</td>\n",
       "      <td>1.0</td>\n",
       "      <td>35000.0</td>\n",
       "    </tr>\n",
       "  </tbody>\n",
       "</table>\n",
       "<p>6704 rows × 6 columns</p>\n",
       "</div>"
      ],
      "text/plain": [
       "       Age  Gender    Education Level              Job Title  \\\n",
       "0     32.0    Male         Bachelor's      Software Engineer   \n",
       "1     28.0  Female           Master's           Data Analyst   \n",
       "2     45.0    Male                PhD         Senior Manager   \n",
       "3     36.0  Female         Bachelor's        Sales Associate   \n",
       "4     52.0    Male           Master's               Director   \n",
       "...    ...     ...                ...                    ...   \n",
       "6699  49.0  Female                PhD  Director of Marketing   \n",
       "6700  32.0    Male        High School        Sales Associate   \n",
       "6701  30.0  Female  Bachelor's Degree      Financial Manager   \n",
       "6702  46.0    Male    Master's Degree      Marketing Manager   \n",
       "6703  26.0  Female        High School        Sales Executive   \n",
       "\n",
       "      Years of Experience    Salary  \n",
       "0                     5.0   90000.0  \n",
       "1                     3.0   65000.0  \n",
       "2                    15.0  150000.0  \n",
       "3                     7.0   60000.0  \n",
       "4                    20.0  200000.0  \n",
       "...                   ...       ...  \n",
       "6699                 20.0  200000.0  \n",
       "6700                  3.0   50000.0  \n",
       "6701                  4.0   55000.0  \n",
       "6702                 14.0  140000.0  \n",
       "6703                  1.0   35000.0  \n",
       "\n",
       "[6704 rows x 6 columns]"
      ]
     },
     "execution_count": 4,
     "metadata": {},
     "output_type": "execute_result"
    }
   ],
   "source": [
    "dataset"
   ]
  },
  {
   "cell_type": "code",
   "execution_count": 5,
   "id": "1aebb622",
   "metadata": {},
   "outputs": [
    {
     "data": {
      "text/plain": [
       "Age                    2\n",
       "Gender                 2\n",
       "Education Level        3\n",
       "Job Title              2\n",
       "Years of Experience    3\n",
       "Salary                 5\n",
       "dtype: int64"
      ]
     },
     "execution_count": 5,
     "metadata": {},
     "output_type": "execute_result"
    }
   ],
   "source": [
    "dataset.isnull().sum()"
   ]
  },
  {
   "cell_type": "code",
   "execution_count": 6,
   "id": "92dee212",
   "metadata": {},
   "outputs": [
    {
     "data": {
      "text/plain": [
       "Age                    2\n",
       "Gender                 2\n",
       "Education Level        3\n",
       "Job Title              2\n",
       "Years of Experience    3\n",
       "Salary                 5\n",
       "dtype: int64"
      ]
     },
     "execution_count": 6,
     "metadata": {},
     "output_type": "execute_result"
    }
   ],
   "source": [
    "dataset.isna().sum()"
   ]
  },
  {
   "cell_type": "code",
   "execution_count": 9,
   "id": "b7357299",
   "metadata": {},
   "outputs": [],
   "source": [
    "dataset[\"Salary\"].fillna(0,inplace=True)\n"
   ]
  },
  {
   "cell_type": "code",
   "execution_count": 10,
   "id": "6afe7a48",
   "metadata": {},
   "outputs": [
    {
     "data": {
      "text/plain": [
       "Age                    2\n",
       "Gender                 2\n",
       "Education Level        3\n",
       "Job Title              2\n",
       "Years of Experience    3\n",
       "Salary                 0\n",
       "dtype: int64"
      ]
     },
     "execution_count": 10,
     "metadata": {},
     "output_type": "execute_result"
    }
   ],
   "source": [
    "dataset.isnull().sum()"
   ]
  },
  {
   "cell_type": "code",
   "execution_count": 11,
   "id": "f42e82f1",
   "metadata": {},
   "outputs": [],
   "source": [
    "dataset.dropna(inplace=True)"
   ]
  },
  {
   "cell_type": "code",
   "execution_count": 12,
   "id": "cf6f0788",
   "metadata": {},
   "outputs": [
    {
     "data": {
      "text/html": [
       "<div>\n",
       "<style scoped>\n",
       "    .dataframe tbody tr th:only-of-type {\n",
       "        vertical-align: middle;\n",
       "    }\n",
       "\n",
       "    .dataframe tbody tr th {\n",
       "        vertical-align: top;\n",
       "    }\n",
       "\n",
       "    .dataframe thead th {\n",
       "        text-align: right;\n",
       "    }\n",
       "</style>\n",
       "<table border=\"1\" class=\"dataframe\">\n",
       "  <thead>\n",
       "    <tr style=\"text-align: right;\">\n",
       "      <th></th>\n",
       "      <th>Age</th>\n",
       "      <th>Gender</th>\n",
       "      <th>Education Level</th>\n",
       "      <th>Job Title</th>\n",
       "      <th>Years of Experience</th>\n",
       "      <th>Salary</th>\n",
       "    </tr>\n",
       "  </thead>\n",
       "  <tbody>\n",
       "    <tr>\n",
       "      <th>0</th>\n",
       "      <td>32.0</td>\n",
       "      <td>Male</td>\n",
       "      <td>Bachelor's</td>\n",
       "      <td>Software Engineer</td>\n",
       "      <td>5.0</td>\n",
       "      <td>90000.0</td>\n",
       "    </tr>\n",
       "    <tr>\n",
       "      <th>1</th>\n",
       "      <td>28.0</td>\n",
       "      <td>Female</td>\n",
       "      <td>Master's</td>\n",
       "      <td>Data Analyst</td>\n",
       "      <td>3.0</td>\n",
       "      <td>65000.0</td>\n",
       "    </tr>\n",
       "    <tr>\n",
       "      <th>2</th>\n",
       "      <td>45.0</td>\n",
       "      <td>Male</td>\n",
       "      <td>PhD</td>\n",
       "      <td>Senior Manager</td>\n",
       "      <td>15.0</td>\n",
       "      <td>150000.0</td>\n",
       "    </tr>\n",
       "    <tr>\n",
       "      <th>3</th>\n",
       "      <td>36.0</td>\n",
       "      <td>Female</td>\n",
       "      <td>Bachelor's</td>\n",
       "      <td>Sales Associate</td>\n",
       "      <td>7.0</td>\n",
       "      <td>60000.0</td>\n",
       "    </tr>\n",
       "    <tr>\n",
       "      <th>4</th>\n",
       "      <td>52.0</td>\n",
       "      <td>Male</td>\n",
       "      <td>Master's</td>\n",
       "      <td>Director</td>\n",
       "      <td>20.0</td>\n",
       "      <td>200000.0</td>\n",
       "    </tr>\n",
       "    <tr>\n",
       "      <th>...</th>\n",
       "      <td>...</td>\n",
       "      <td>...</td>\n",
       "      <td>...</td>\n",
       "      <td>...</td>\n",
       "      <td>...</td>\n",
       "      <td>...</td>\n",
       "    </tr>\n",
       "    <tr>\n",
       "      <th>6699</th>\n",
       "      <td>49.0</td>\n",
       "      <td>Female</td>\n",
       "      <td>PhD</td>\n",
       "      <td>Director of Marketing</td>\n",
       "      <td>20.0</td>\n",
       "      <td>200000.0</td>\n",
       "    </tr>\n",
       "    <tr>\n",
       "      <th>6700</th>\n",
       "      <td>32.0</td>\n",
       "      <td>Male</td>\n",
       "      <td>High School</td>\n",
       "      <td>Sales Associate</td>\n",
       "      <td>3.0</td>\n",
       "      <td>50000.0</td>\n",
       "    </tr>\n",
       "    <tr>\n",
       "      <th>6701</th>\n",
       "      <td>30.0</td>\n",
       "      <td>Female</td>\n",
       "      <td>Bachelor's Degree</td>\n",
       "      <td>Financial Manager</td>\n",
       "      <td>4.0</td>\n",
       "      <td>55000.0</td>\n",
       "    </tr>\n",
       "    <tr>\n",
       "      <th>6702</th>\n",
       "      <td>46.0</td>\n",
       "      <td>Male</td>\n",
       "      <td>Master's Degree</td>\n",
       "      <td>Marketing Manager</td>\n",
       "      <td>14.0</td>\n",
       "      <td>140000.0</td>\n",
       "    </tr>\n",
       "    <tr>\n",
       "      <th>6703</th>\n",
       "      <td>26.0</td>\n",
       "      <td>Female</td>\n",
       "      <td>High School</td>\n",
       "      <td>Sales Executive</td>\n",
       "      <td>1.0</td>\n",
       "      <td>35000.0</td>\n",
       "    </tr>\n",
       "  </tbody>\n",
       "</table>\n",
       "<p>6700 rows × 6 columns</p>\n",
       "</div>"
      ],
      "text/plain": [
       "       Age  Gender    Education Level              Job Title  \\\n",
       "0     32.0    Male         Bachelor's      Software Engineer   \n",
       "1     28.0  Female           Master's           Data Analyst   \n",
       "2     45.0    Male                PhD         Senior Manager   \n",
       "3     36.0  Female         Bachelor's        Sales Associate   \n",
       "4     52.0    Male           Master's               Director   \n",
       "...    ...     ...                ...                    ...   \n",
       "6699  49.0  Female                PhD  Director of Marketing   \n",
       "6700  32.0    Male        High School        Sales Associate   \n",
       "6701  30.0  Female  Bachelor's Degree      Financial Manager   \n",
       "6702  46.0    Male    Master's Degree      Marketing Manager   \n",
       "6703  26.0  Female        High School        Sales Executive   \n",
       "\n",
       "      Years of Experience    Salary  \n",
       "0                     5.0   90000.0  \n",
       "1                     3.0   65000.0  \n",
       "2                    15.0  150000.0  \n",
       "3                     7.0   60000.0  \n",
       "4                    20.0  200000.0  \n",
       "...                   ...       ...  \n",
       "6699                 20.0  200000.0  \n",
       "6700                  3.0   50000.0  \n",
       "6701                  4.0   55000.0  \n",
       "6702                 14.0  140000.0  \n",
       "6703                  1.0   35000.0  \n",
       "\n",
       "[6700 rows x 6 columns]"
      ]
     },
     "execution_count": 12,
     "metadata": {},
     "output_type": "execute_result"
    }
   ],
   "source": [
    "dataset"
   ]
  },
  {
   "cell_type": "code",
   "execution_count": 14,
   "id": "387d5d65",
   "metadata": {},
   "outputs": [
    {
     "ename": "SyntaxError",
     "evalue": "unexpected EOF while parsing (<ipython-input-14-aa7409fb17ca>, line 1)",
     "output_type": "error",
     "traceback": [
      "\u001b[1;36m  File \u001b[1;32m\"<ipython-input-14-aa7409fb17ca>\"\u001b[1;36m, line \u001b[1;32m1\u001b[0m\n\u001b[1;33m    dataset[\"Salary\"].fillna(dataset[\"Salary\"].mean(),inplace=True\u001b[0m\n\u001b[1;37m                                                                  ^\u001b[0m\n\u001b[1;31mSyntaxError\u001b[0m\u001b[1;31m:\u001b[0m unexpected EOF while parsing\n"
     ]
    }
   ],
   "source": [
    "dataset[\"Salary\"].fillna(dataset[\"Salary\"].mean(),inplace=True"
   ]
  },
  {
   "cell_type": "code",
   "execution_count": null,
   "id": "d92015e3",
   "metadata": {},
   "outputs": [],
   "source": [
    "dataset"
   ]
  },
  {
   "cell_type": "code",
   "execution_count": null,
   "id": "358fbf2f",
   "metadata": {},
   "outputs": [],
   "source": [
    "def quanQual(dataset):\n",
    "    quan=[]\n",
    "    qual=[]\n",
    "    for columnName in dataset.columns:\n",
    "        #print(columnName)\n",
    "        if(dataset[columnName].dtype=='O'):\n",
    "            #print(\"qual\")\n",
    "            qual.append(columnName)\n",
    "        else:\n",
    "            #print(\"quan\")\n",
    "            quan.append(columnName)\n",
    "    return quan,qual"
   ]
  },
  {
   "cell_type": "code",
   "execution_count": null,
   "id": "24b62f7f",
   "metadata": {},
   "outputs": [],
   "source": [
    "quan,qaul=quanQual(dataset)"
   ]
  },
  {
   "cell_type": "code",
   "execution_count": null,
   "id": "30d55c07",
   "metadata": {},
   "outputs": [],
   "source": [
    "dataset[quan]"
   ]
  },
  {
   "cell_type": "code",
   "execution_count": null,
   "id": "cb4ea682",
   "metadata": {},
   "outputs": [],
   "source": [
    "import numpy as np\n",
    "from sklearn.impute import SimpleImputer\n",
    "imp = SimpleImputer(missing_values=np.nan, strategy='mean')\n",
    "imp.fit(dataset[quan])\n",
    "df=imp.transform(dataset[quan])\n",
    "df = pd.DataFrame(df,columns = quan)"
   ]
  },
  {
   "cell_type": "code",
   "execution_count": null,
   "id": "cdd583ff",
   "metadata": {},
   "outputs": [],
   "source": [
    "df"
   ]
  },
  {
   "cell_type": "code",
   "execution_count": null,
   "id": "db9be2bf",
   "metadata": {},
   "outputs": [],
   "source": [
    "df"
   ]
  },
  {
   "cell_type": "code",
   "execution_count": null,
   "id": "606e8163",
   "metadata": {},
   "outputs": [],
   "source": [
    "cate=dataset[qaul]"
   ]
  },
  {
   "cell_type": "code",
   "execution_count": null,
   "id": "ba6bcfef",
   "metadata": {},
   "outputs": [],
   "source": [
    "cate"
   ]
  },
  {
   "cell_type": "code",
   "execution_count": null,
   "id": "63daaab9",
   "metadata": {},
   "outputs": [],
   "source": [
    "two=[df,cate]"
   ]
  },
  {
   "cell_type": "code",
   "execution_count": null,
   "id": "d8b8ef63",
   "metadata": {},
   "outputs": [],
   "source": [
    "preprocessed=pd.concat(two,axis=1)"
   ]
  },
  {
   "cell_type": "code",
   "execution_count": null,
   "id": "bd17f480",
   "metadata": {},
   "outputs": [],
   "source": [
    "preprocessed"
   ]
  },
  {
   "cell_type": "code",
   "execution_count": null,
   "id": "c10ebb3e",
   "metadata": {},
   "outputs": [],
   "source": [
    "preprocessed.isnull().sum()"
   ]
  },
  {
   "cell_type": "code",
   "execution_count": null,
   "id": "7664d721",
   "metadata": {},
   "outputs": [],
   "source": [
    "preprocessed.to_csv(\"smartphonesdatapreprocessing data.csv\",index=False)"
   ]
  },
  {
   "cell_type": "code",
   "execution_count": null,
   "id": "81c13e7b",
   "metadata": {},
   "outputs": [],
   "source": []
  }
 ],
 "metadata": {
  "celltoolbar": "Raw Cell Format",
  "kernelspec": {
   "display_name": "Python 3",
   "language": "python",
   "name": "python3"
  },
  "language_info": {
   "codemirror_mode": {
    "name": "ipython",
    "version": 3
   },
   "file_extension": ".py",
   "mimetype": "text/x-python",
   "name": "python",
   "nbconvert_exporter": "python",
   "pygments_lexer": "ipython3",
   "version": "3.7.6"
  }
 },
 "nbformat": 4,
 "nbformat_minor": 5
}
