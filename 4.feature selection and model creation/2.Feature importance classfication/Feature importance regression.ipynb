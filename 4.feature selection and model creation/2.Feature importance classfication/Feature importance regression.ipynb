{
 "cells": [
  {
   "cell_type": "code",
   "execution_count": null,
   "id": "425b654b-23a5-4359-b73b-73cf372d6133",
   "metadata": {},
   "outputs": [],
   "source": [
    "pip install xgboost"
   ]
  },
  {
   "cell_type": "code",
   "execution_count": 1,
   "id": "79d7ad15-b4ee-4e7d-93a2-1b5000bef85a",
   "metadata": {},
   "outputs": [
    {
     "name": "stderr",
     "output_type": "stream",
     "text": [
      "\n",
      "Bad key text.latex.preview in file C:\\anaconda3\\envs\\AIML\\lib\\site-packages\\matplotlib\\mpl-data\\stylelib\\_classic_test.mplstyle, line 123 ('text.latex.preview : False')\n",
      "You probably need to get an updated matplotlibrc file from\n",
      "https://github.com/matplotlib/matplotlib/blob/v3.5.3/matplotlibrc.template\n",
      "or from the matplotlib source distribution\n",
      "\n",
      "Bad key mathtext.fallback_to_cm in file C:\\anaconda3\\envs\\AIML\\lib\\site-packages\\matplotlib\\mpl-data\\stylelib\\_classic_test.mplstyle, line 155 ('mathtext.fallback_to_cm : True  # When True, use symbols from the Computer Modern')\n",
      "You probably need to get an updated matplotlibrc file from\n",
      "https://github.com/matplotlib/matplotlib/blob/v3.5.3/matplotlibrc.template\n",
      "or from the matplotlib source distribution\n",
      "\n",
      "Bad key savefig.jpeg_quality in file C:\\anaconda3\\envs\\AIML\\lib\\site-packages\\matplotlib\\mpl-data\\stylelib\\_classic_test.mplstyle, line 418 ('savefig.jpeg_quality: 95       # when a jpeg is saved, the default quality parameter.')\n",
      "You probably need to get an updated matplotlibrc file from\n",
      "https://github.com/matplotlib/matplotlib/blob/v3.5.3/matplotlibrc.template\n",
      "or from the matplotlib source distribution\n",
      "\n",
      "Bad key keymap.all_axes in file C:\\anaconda3\\envs\\AIML\\lib\\site-packages\\matplotlib\\mpl-data\\stylelib\\_classic_test.mplstyle, line 466 ('keymap.all_axes : a                 # enable all axes')\n",
      "You probably need to get an updated matplotlibrc file from\n",
      "https://github.com/matplotlib/matplotlib/blob/v3.5.3/matplotlibrc.template\n",
      "or from the matplotlib source distribution\n",
      "\n",
      "Bad key animation.avconv_path in file C:\\anaconda3\\envs\\AIML\\lib\\site-packages\\matplotlib\\mpl-data\\stylelib\\_classic_test.mplstyle, line 477 ('animation.avconv_path: avconv     # Path to avconv binary. Without full path')\n",
      "You probably need to get an updated matplotlibrc file from\n",
      "https://github.com/matplotlib/matplotlib/blob/v3.5.3/matplotlibrc.template\n",
      "or from the matplotlib source distribution\n",
      "\n",
      "Bad key animation.avconv_args in file C:\\anaconda3\\envs\\AIML\\lib\\site-packages\\matplotlib\\mpl-data\\stylelib\\_classic_test.mplstyle, line 479 ('animation.avconv_args:            # Additional arguments to pass to avconv')\n",
      "You probably need to get an updated matplotlibrc file from\n",
      "https://github.com/matplotlib/matplotlib/blob/v3.5.3/matplotlibrc.template\n",
      "or from the matplotlib source distribution\n"
     ]
    }
   ],
   "source": [
    "import pandas as pd\n",
    "from sklearn.model_selection import train_test_split \n",
    "import time\n",
    "import numpy as np\n",
    "from sklearn.preprocessing import StandardScaler\n",
    "\n",
    "from sklearn.feature_selection import RFE\n",
    "from sklearn.inspection import permutation_importance\n",
    "\n",
    "import pickle\n",
    "import matplotlib.pyplot as plt\n",
    "from xgboost import XGBClassifier\n",
    "from sklearn.linear_model import Lasso\n",
    "from sklearn.neighbors import KNeighborsClassifier   \n",
    "from sklearn.svm import SVC\n",
    "from sklearn.ensemble import RandomForestClassifier\n",
    "from sklearn.naive_bayes import GaussianNB\n",
    "from sklearn.tree import DecisionTreeClassifier"
   ]
  },
  {
   "cell_type": "code",
   "execution_count": 2,
   "id": "a3c41a04-4a2c-4b6a-8361-4e1b7eb37945",
   "metadata": {},
   "outputs": [],
   "source": [
    "def impFeature(indep_X,dep_Y,n):\n",
    "        implist=[]\n",
    "        featurexgb = XGBClassifier()\n",
    "        RF = RandomForestClassifier(n_estimators = 10, criterion = 'entropy', random_state = 0)\n",
    "        importFeature_lasso=Lasso(alpha=0.1)\n",
    "     \n",
    "        impmodellist=[featurexgb,RF,importFeature_lasso] \n",
    "       \n",
    "        for i in   impmodellist:\n",
    "            print(i)\n",
    "            log_rfe = permutation_importance(estimator=i, n_features_to_select=n)\n",
    "            log_fit = log_rfe.fit(indep_X, dep_Y)\n",
    "            log_rfe_feature=log_fit.transform(indep_X)\n",
    "            rfelist.append(log_rfe_feature)\n",
    "        return implist"
   ]
  },
  {
   "cell_type": "code",
   "execution_count": 3,
   "id": "95211ad1-5628-43ca-8363-5113ff28fa00",
   "metadata": {},
   "outputs": [],
   "source": [
    "def split_scalar(indep_X,dep_Y):\n",
    "        X_train, X_test, y_train, y_test = train_test_split(indep_X, dep_Y, test_size = 0.25, random_state = 0)\n",
    "        #X_train, X_test, y_train, y_test = train_test_split(indep_X,dep_Y, test_size = 0.25, random_state = 0)\n",
    "        \n",
    "        #Feature Scaling\n",
    "        #from sklearn.preprocessing import StandardScaler\n",
    "        sc = StandardScaler()\n",
    "        X_train = sc.fit_transform(X_train)\n",
    "        X_test = sc.transform(X_test)    \n",
    "        return X_train, X_test, y_train, y_test\n",
    "    "
   ]
  },
  {
   "cell_type": "code",
   "execution_count": 4,
   "id": "129a66c1-7dc8-4c32-92a5-0721ed1f2571",
   "metadata": {},
   "outputs": [],
   "source": [
    "def r2_prediction(regressor,X_test,y_test):\n",
    "     y_pred = regressor.predict(X_test)\n",
    "     from sklearn.metrics import r2_score\n",
    "     r2=r2_score(y_test,y_pred)\n",
    "     return r2\n",
    " "
   ]
  },
  {
   "cell_type": "code",
   "execution_count": 5,
   "id": "1efa0216-30ac-4f4d-a78d-a65d40b63360",
   "metadata": {},
   "outputs": [],
   "source": [
    "def r2_prediction(regressor, X_test, y_test):\n",
    "    y_pred = regressor.predict(X_test)\n",
    "    from sklearn.metrics import r2_score\n",
    "    r2 = r2_score(y_test, y_pred)\n",
    "    return r2\n",
    "\n",
    "def Linear(X_train, y_train, X_test):\n",
    "    from sklearn.linear_model import LinearRegression\n",
    "    regressor = LinearRegression()\n",
    "    regressor.fit(X_train, y_train)\n",
    "    r2 = r2_prediction(regressor, X_test, y_test)\n",
    "    return r2\n",
    "\n",
    "def svm_linear(X_train, y_train, X_test):\n",
    "    from sklearn.svm import SVR\n",
    "    regressor = SVR(kernel='linear')\n",
    "    regressor.fit(X_train, y_train)\n",
    "    r2 = r2_prediction(regressor, X_test, y_test)\n",
    "    return r2\n",
    "\n",
    "def svm_NL(X_train, y_train, X_test):\n",
    "    from sklearn.svm import SVR\n",
    "    regressor = SVR(kernel='rbf')\n",
    "    regressor.fit(X_train, y_train)\n",
    "    r2 = r2_prediction(regressor, X_test, y_test)\n",
    "    return r2\n",
    "\n",
    "def Decision(X_train, y_train, X_test):\n",
    "    from sklearn.tree import DecisionTreeRegressor\n",
    "    regressor = DecisionTreeRegressor(random_state=0)\n",
    "    regressor.fit(X_train, y_train)\n",
    "    r2 = r2_prediction(regressor, X_test, y_test)\n",
    "    return r2\n",
    "\n",
    "def random(X_train, y_train, X_test):\n",
    "    from sklearn.ensemble import RandomForestRegressor\n",
    "    regressor = RandomForestRegressor(n_estimators=10, random_state=0)\n",
    "    regressor.fit(X_train, y_train)\n",
    "    r2 = r2_prediction(regressor, X_test, y_test)\n",
    "    return r2\n"
   ]
  },
  {
   "cell_type": "code",
   "execution_count": 6,
   "id": "4d981fd7-19e3-49a5-a2e0-502c5eb55c37",
   "metadata": {},
   "outputs": [],
   "source": [
    "def imp_regression(r2_log, r2_svml, r2_svmnl, r2_knn, r2_nav, r2_des, r2_rf): \n",
    "    impdataframe = pd.DataFrame(index=['XGB', 'RF', 'Lasso'],\n",
    "                                columns=['Linear', 'SVMl', 'SVMnl', 'KNN', 'Decision', 'Random'])\n",
    "\n",
    "    for number, idex in enumerate(impdataframe.index):\n",
    "        impdataframe['Linear'][idex] = r2_log[number]\n",
    "        impdataframe['SVMl'][idex] = r2_svml[number]\n",
    "        impdataframe['SVMnl'][idex] = r2_svmnl[number]\n",
    "        impdataframe['KNN'][idex] = r2_knn[number]\n",
    "        impdataframe['Decision'][idex] = r2_des[number]\n",
    "        impdataframe['Random'][idex] = r2_rf[number]\n",
    "\n",
    "    return impdataframe\n"
   ]
  },
  {
   "cell_type": "code",
   "execution_count": 7,
   "id": "85d4635f-5cb7-45c5-a064-818e4aa454eb",
   "metadata": {},
   "outputs": [],
   "source": [
    "dataset1 = pd.read_csv(\"Automobilecodedata.csv\", index_col=None)\n",
    "df2 = dataset1\n",
    "df2 = pd.get_dummies(df2, drop_first=True)\n",
    "\n",
    "indep_X = df2.drop('weight', axis=1)\n",
    "dep_Y = df2['weight']"
   ]
  },
  {
   "cell_type": "code",
   "execution_count": 8,
   "id": "573d3ca1",
   "metadata": {},
   "outputs": [
    {
     "name": "stdout",
     "output_type": "stream",
     "text": [
      "XGBClassifier(base_score=None, booster=None, callbacks=None,\n",
      "              colsample_bylevel=None, colsample_bynode=None,\n",
      "              colsample_bytree=None, early_stopping_rounds=None,\n",
      "              enable_categorical=False, eval_metric=None, gamma=None,\n",
      "              gpu_id=None, grow_policy=None, importance_type=None,\n",
      "              interaction_constraints=None, learning_rate=None, max_bin=None,\n",
      "              max_cat_to_onehot=None, max_delta_step=None, max_depth=None,\n",
      "              max_leaves=None, min_child_weight=None, missing=nan,\n",
      "              monotone_constraints=None, n_estimators=100, n_jobs=None,\n",
      "              num_parallel_tree=None, predictor=None, random_state=None,\n",
      "              reg_alpha=None, reg_lambda=None, ...)\n"
     ]
    },
    {
     "ename": "TypeError",
     "evalue": "permutation_importance() got an unexpected keyword argument 'n_features_to_select'",
     "output_type": "error",
     "traceback": [
      "\u001b[1;31m---------------------------------------------------------------------------\u001b[0m",
      "\u001b[1;31mTypeError\u001b[0m                                 Traceback (most recent call last)",
      "\u001b[1;32m<ipython-input-8-63988ce6729b>\u001b[0m in \u001b[0;36m<module>\u001b[1;34m\u001b[0m\n\u001b[1;32m----> 1\u001b[1;33m \u001b[0mimplist\u001b[0m \u001b[1;33m=\u001b[0m \u001b[0mimpFeature\u001b[0m\u001b[1;33m(\u001b[0m\u001b[0mindep_X\u001b[0m\u001b[1;33m,\u001b[0m \u001b[0mdep_Y\u001b[0m\u001b[1;33m,\u001b[0m \u001b[1;36m3\u001b[0m\u001b[1;33m)\u001b[0m\u001b[1;33m\u001b[0m\u001b[1;33m\u001b[0m\u001b[0m\n\u001b[0m\u001b[0;32m      2\u001b[0m \u001b[1;33m\u001b[0m\u001b[0m\n\u001b[0;32m      3\u001b[0m \u001b[0mr2_log\u001b[0m \u001b[1;33m=\u001b[0m \u001b[1;33m[\u001b[0m\u001b[1;33m]\u001b[0m\u001b[1;33m\u001b[0m\u001b[1;33m\u001b[0m\u001b[0m\n\u001b[0;32m      4\u001b[0m \u001b[0mr2_svml\u001b[0m \u001b[1;33m=\u001b[0m \u001b[1;33m[\u001b[0m\u001b[1;33m]\u001b[0m\u001b[1;33m\u001b[0m\u001b[1;33m\u001b[0m\u001b[0m\n\u001b[0;32m      5\u001b[0m \u001b[0mr2_svmnl\u001b[0m \u001b[1;33m=\u001b[0m \u001b[1;33m[\u001b[0m\u001b[1;33m]\u001b[0m\u001b[1;33m\u001b[0m\u001b[1;33m\u001b[0m\u001b[0m\n",
      "\u001b[1;32m<ipython-input-2-4722649eda21>\u001b[0m in \u001b[0;36mimpFeature\u001b[1;34m(indep_X, dep_Y, n)\u001b[0m\n\u001b[0;32m      9\u001b[0m         \u001b[1;32mfor\u001b[0m \u001b[0mi\u001b[0m \u001b[1;32min\u001b[0m   \u001b[0mimpmodellist\u001b[0m\u001b[1;33m:\u001b[0m\u001b[1;33m\u001b[0m\u001b[1;33m\u001b[0m\u001b[0m\n\u001b[0;32m     10\u001b[0m             \u001b[0mprint\u001b[0m\u001b[1;33m(\u001b[0m\u001b[0mi\u001b[0m\u001b[1;33m)\u001b[0m\u001b[1;33m\u001b[0m\u001b[1;33m\u001b[0m\u001b[0m\n\u001b[1;32m---> 11\u001b[1;33m             \u001b[0mlog_rfe\u001b[0m \u001b[1;33m=\u001b[0m \u001b[0mpermutation_importance\u001b[0m\u001b[1;33m(\u001b[0m\u001b[0mestimator\u001b[0m\u001b[1;33m=\u001b[0m\u001b[0mi\u001b[0m\u001b[1;33m,\u001b[0m \u001b[0mn_features_to_select\u001b[0m\u001b[1;33m=\u001b[0m\u001b[0mn\u001b[0m\u001b[1;33m)\u001b[0m\u001b[1;33m\u001b[0m\u001b[1;33m\u001b[0m\u001b[0m\n\u001b[0m\u001b[0;32m     12\u001b[0m             \u001b[0mlog_fit\u001b[0m \u001b[1;33m=\u001b[0m \u001b[0mlog_rfe\u001b[0m\u001b[1;33m.\u001b[0m\u001b[0mfit\u001b[0m\u001b[1;33m(\u001b[0m\u001b[0mindep_X\u001b[0m\u001b[1;33m,\u001b[0m \u001b[0mdep_Y\u001b[0m\u001b[1;33m)\u001b[0m\u001b[1;33m\u001b[0m\u001b[1;33m\u001b[0m\u001b[0m\n\u001b[0;32m     13\u001b[0m             \u001b[0mlog_rfe_feature\u001b[0m\u001b[1;33m=\u001b[0m\u001b[0mlog_fit\u001b[0m\u001b[1;33m.\u001b[0m\u001b[0mtransform\u001b[0m\u001b[1;33m(\u001b[0m\u001b[0mindep_X\u001b[0m\u001b[1;33m)\u001b[0m\u001b[1;33m\u001b[0m\u001b[1;33m\u001b[0m\u001b[0m\n",
      "\u001b[1;31mTypeError\u001b[0m: permutation_importance() got an unexpected keyword argument 'n_features_to_select'"
     ]
    }
   ],
   "source": [
    "implist = impFeature(indep_X, dep_Y, 3)\n",
    "\n",
    "r2_log = []\n",
    "r2_svml = []\n",
    "r2_svmnl = []\n",
    "r2_knn = []\n",
    "r2_nav = []\n",
    "r2_des = []\n",
    "r2_rf = []\n",
    "\n",
    "for i in implist:\n",
    "    X_train, X_test, y_train, y_test = split_scalar(i, dep_Y)\n",
    "    \n",
    "    r2 = Linear(X_train, y_train, X_test)\n",
    "    r2_log.append(r2)\n",
    "    \n",
    "    r2 = svm_linear(X_train, y_train, X_test)\n",
    "    r2_svml.append(r2)\n",
    "    \n",
    "    r2 = svm_NL(X_train, y_train, X_test)\n",
    "    r2_svmnl.append(r2)\n",
    "    \n",
    "    r2 = knn(X_train, y_train, X_test)\n",
    "    r2_knn.append(r2)\n",
    "    \n",
    "    r2 = Decision(X_train, y_train, X_test)\n",
    "    r2_des.append(r2)\n",
    "    \n",
    "    r2 = random(X_train, y_train, X_test)\n",
    "    r2_rf.append(r2)\n",
    "\n",
    "# Now you can process your R² score lists, e.g.:\n",
    "result = imp_regression(r2_log, r2_svml, r2_svmnl, r2_knn, r2_nav, r2_des, r2_rf)\n"
   ]
  },
  {
   "cell_type": "code",
   "execution_count": null,
   "id": "2d360e5a",
   "metadata": {},
   "outputs": [],
   "source": []
  },
  {
   "cell_type": "code",
   "execution_count": null,
   "id": "2f092097",
   "metadata": {},
   "outputs": [],
   "source": []
  }
 ],
 "metadata": {
  "kernelspec": {
   "display_name": "Python 3",
   "language": "python",
   "name": "python3"
  },
  "language_info": {
   "codemirror_mode": {
    "name": "ipython",
    "version": 3
   },
   "file_extension": ".py",
   "mimetype": "text/x-python",
   "name": "python",
   "nbconvert_exporter": "python",
   "pygments_lexer": "ipython3",
   "version": "3.7.6"
  }
 },
 "nbformat": 4,
 "nbformat_minor": 5
}
